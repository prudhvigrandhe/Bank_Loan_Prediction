{
  "cells": [
    {
      "cell_type": "markdown",
      "metadata": {
        "id": "view-in-github",
        "colab_type": "text"
      },
      "source": [
        "<a href=\"https://colab.research.google.com/github/prudhvigrandhe/Bank_Loan_Prediction/blob/main/Untitled.ipynb\" target=\"_parent\"><img src=\"https://colab.research.google.com/assets/colab-badge.svg\" alt=\"Open In Colab\"/></a>"
      ]
    },
    {
      "cell_type": "code",
      "execution_count": null,
      "id": "06e6a6fa",
      "metadata": {
        "id": "06e6a6fa"
      },
      "outputs": [],
      "source": [
        "import pandas as pd\n",
        "import numpy as np\n",
        "import matplotlib.pyplot as plt\n",
        "import seaborn as sns\n",
        "%matplotlib inline"
      ]
    },
    {
      "cell_type": "code",
      "source": [
        "from google.colab import drive\n",
        "drive.mount('/content/drive')"
      ],
      "metadata": {
        "colab": {
          "base_uri": "https://localhost:8080/"
        },
        "id": "hC-4CNEsMoaw",
        "outputId": "2d647039-cf1d-4577-dd51-584ace779c83"
      },
      "id": "hC-4CNEsMoaw",
      "execution_count": null,
      "outputs": [
        {
          "output_type": "stream",
          "name": "stdout",
          "text": [
            "Drive already mounted at /content/drive; to attempt to forcibly remount, call drive.mount(\"/content/drive\", force_remount=True).\n"
          ]
        }
      ]
    },
    {
      "cell_type": "code",
      "execution_count": 18,
      "id": "92c3bd15",
      "metadata": {
        "colab": {
          "base_uri": "https://localhost:8080/",
          "height": 488
        },
        "id": "92c3bd15",
        "outputId": "cdff847e-046a-40e0-9f86-af581d750da3"
      },
      "outputs": [
        {
          "output_type": "execute_result",
          "data": {
            "text/plain": [
              "       SK_ID_CURR  TARGET NAME_CONTRACT_TYPE CODE_GENDER FLAG_OWN_CAR  \\\n",
              "0          100002       1         Cash loans           M            N   \n",
              "1          100003       0         Cash loans           F            N   \n",
              "2          100004       0    Revolving loans           M            Y   \n",
              "3          100006       0         Cash loans           F            N   \n",
              "4          100007       0         Cash loans           M            N   \n",
              "...           ...     ...                ...         ...          ...   \n",
              "27161      131571       0         Cash loans           M            Y   \n",
              "27162      131572       0         Cash loans           F            N   \n",
              "27163      131573       0    Revolving loans           F            N   \n",
              "27164      131574       0         Cash loans           F            Y   \n",
              "27165      131575       0         Cash loans           F            N   \n",
              "\n",
              "      FLAG_OWN_REALTY  CNT_CHILDREN  AMT_INCOME_TOTAL  AMT_CREDIT  \\\n",
              "0                   Y             0          202500.0    406597.5   \n",
              "1                   N             0          270000.0   1293502.5   \n",
              "2                   Y             0           67500.0    135000.0   \n",
              "3                   Y             0          135000.0    312682.5   \n",
              "4                   Y             0          121500.0    513000.0   \n",
              "...               ...           ...               ...         ...   \n",
              "27161               N             1          202500.0    900000.0   \n",
              "27162               Y             0          112500.0    254700.0   \n",
              "27163               Y             0          306000.0    135000.0   \n",
              "27164               Y             0          202500.0    795465.0   \n",
              "27165               N             0          180000.0    225000.0   \n",
              "\n",
              "       AMT_ANNUITY  ...  FLAG_DOCUMENT_18 FLAG_DOCUMENT_19 FLAG_DOCUMENT_20  \\\n",
              "0          24700.5  ...                 0                0                0   \n",
              "1          35698.5  ...                 0                0                0   \n",
              "2           6750.0  ...                 0                0                0   \n",
              "3          29686.5  ...                 0                0                0   \n",
              "4          21865.5  ...                 0                0                0   \n",
              "...            ...  ...               ...              ...              ...   \n",
              "27161      46084.5  ...                 0                0                0   \n",
              "27162      24939.0  ...                 0                0                0   \n",
              "27163       6750.0  ...                 0                0                0   \n",
              "27164      31675.5  ...                 0                0                0   \n",
              "27165      19246.5  ...                 0                0                0   \n",
              "\n",
              "      FLAG_DOCUMENT_21 AMT_REQ_CREDIT_BUREAU_HOUR AMT_REQ_CREDIT_BUREAU_DAY  \\\n",
              "0                    0                        0.0                       0.0   \n",
              "1                    0                        0.0                       0.0   \n",
              "2                    0                        0.0                       0.0   \n",
              "3                    0                        NaN                       NaN   \n",
              "4                    0                        0.0                       0.0   \n",
              "...                ...                        ...                       ...   \n",
              "27161                0                        0.0                       0.0   \n",
              "27162                0                        0.0                       0.0   \n",
              "27163                0                        0.0                       0.0   \n",
              "27164                0                        0.0                       0.0   \n",
              "27165                0                        0.0                       0.0   \n",
              "\n",
              "       AMT_REQ_CREDIT_BUREAU_WEEK  AMT_REQ_CREDIT_BUREAU_MON  \\\n",
              "0                             0.0                        0.0   \n",
              "1                             0.0                        0.0   \n",
              "2                             0.0                        0.0   \n",
              "3                             NaN                        NaN   \n",
              "4                             0.0                        0.0   \n",
              "...                           ...                        ...   \n",
              "27161                         0.0                        0.0   \n",
              "27162                         0.0                        0.0   \n",
              "27163                         0.0                        0.0   \n",
              "27164                         0.0                        0.0   \n",
              "27165                         0.0                        0.0   \n",
              "\n",
              "       AMT_REQ_CREDIT_BUREAU_QRT  AMT_REQ_CREDIT_BUREAU_YEAR  \n",
              "0                            0.0                         1.0  \n",
              "1                            0.0                         0.0  \n",
              "2                            0.0                         0.0  \n",
              "3                            NaN                         NaN  \n",
              "4                            0.0                         0.0  \n",
              "...                          ...                         ...  \n",
              "27161                        3.0                         3.0  \n",
              "27162                        0.0                         0.0  \n",
              "27163                        0.0                         6.0  \n",
              "27164                        0.0                         1.0  \n",
              "27165                        NaN                         NaN  \n",
              "\n",
              "[27166 rows x 122 columns]"
            ],
            "text/html": [
              "\n",
              "  <div id=\"df-a6fdd9fc-d359-4b1e-b530-c94f77f0beee\">\n",
              "    <div class=\"colab-df-container\">\n",
              "      <div>\n",
              "<style scoped>\n",
              "    .dataframe tbody tr th:only-of-type {\n",
              "        vertical-align: middle;\n",
              "    }\n",
              "\n",
              "    .dataframe tbody tr th {\n",
              "        vertical-align: top;\n",
              "    }\n",
              "\n",
              "    .dataframe thead th {\n",
              "        text-align: right;\n",
              "    }\n",
              "</style>\n",
              "<table border=\"1\" class=\"dataframe\">\n",
              "  <thead>\n",
              "    <tr style=\"text-align: right;\">\n",
              "      <th></th>\n",
              "      <th>SK_ID_CURR</th>\n",
              "      <th>TARGET</th>\n",
              "      <th>NAME_CONTRACT_TYPE</th>\n",
              "      <th>CODE_GENDER</th>\n",
              "      <th>FLAG_OWN_CAR</th>\n",
              "      <th>FLAG_OWN_REALTY</th>\n",
              "      <th>CNT_CHILDREN</th>\n",
              "      <th>AMT_INCOME_TOTAL</th>\n",
              "      <th>AMT_CREDIT</th>\n",
              "      <th>AMT_ANNUITY</th>\n",
              "      <th>...</th>\n",
              "      <th>FLAG_DOCUMENT_18</th>\n",
              "      <th>FLAG_DOCUMENT_19</th>\n",
              "      <th>FLAG_DOCUMENT_20</th>\n",
              "      <th>FLAG_DOCUMENT_21</th>\n",
              "      <th>AMT_REQ_CREDIT_BUREAU_HOUR</th>\n",
              "      <th>AMT_REQ_CREDIT_BUREAU_DAY</th>\n",
              "      <th>AMT_REQ_CREDIT_BUREAU_WEEK</th>\n",
              "      <th>AMT_REQ_CREDIT_BUREAU_MON</th>\n",
              "      <th>AMT_REQ_CREDIT_BUREAU_QRT</th>\n",
              "      <th>AMT_REQ_CREDIT_BUREAU_YEAR</th>\n",
              "    </tr>\n",
              "  </thead>\n",
              "  <tbody>\n",
              "    <tr>\n",
              "      <th>0</th>\n",
              "      <td>100002</td>\n",
              "      <td>1</td>\n",
              "      <td>Cash loans</td>\n",
              "      <td>M</td>\n",
              "      <td>N</td>\n",
              "      <td>Y</td>\n",
              "      <td>0</td>\n",
              "      <td>202500.0</td>\n",
              "      <td>406597.5</td>\n",
              "      <td>24700.5</td>\n",
              "      <td>...</td>\n",
              "      <td>0</td>\n",
              "      <td>0</td>\n",
              "      <td>0</td>\n",
              "      <td>0</td>\n",
              "      <td>0.0</td>\n",
              "      <td>0.0</td>\n",
              "      <td>0.0</td>\n",
              "      <td>0.0</td>\n",
              "      <td>0.0</td>\n",
              "      <td>1.0</td>\n",
              "    </tr>\n",
              "    <tr>\n",
              "      <th>1</th>\n",
              "      <td>100003</td>\n",
              "      <td>0</td>\n",
              "      <td>Cash loans</td>\n",
              "      <td>F</td>\n",
              "      <td>N</td>\n",
              "      <td>N</td>\n",
              "      <td>0</td>\n",
              "      <td>270000.0</td>\n",
              "      <td>1293502.5</td>\n",
              "      <td>35698.5</td>\n",
              "      <td>...</td>\n",
              "      <td>0</td>\n",
              "      <td>0</td>\n",
              "      <td>0</td>\n",
              "      <td>0</td>\n",
              "      <td>0.0</td>\n",
              "      <td>0.0</td>\n",
              "      <td>0.0</td>\n",
              "      <td>0.0</td>\n",
              "      <td>0.0</td>\n",
              "      <td>0.0</td>\n",
              "    </tr>\n",
              "    <tr>\n",
              "      <th>2</th>\n",
              "      <td>100004</td>\n",
              "      <td>0</td>\n",
              "      <td>Revolving loans</td>\n",
              "      <td>M</td>\n",
              "      <td>Y</td>\n",
              "      <td>Y</td>\n",
              "      <td>0</td>\n",
              "      <td>67500.0</td>\n",
              "      <td>135000.0</td>\n",
              "      <td>6750.0</td>\n",
              "      <td>...</td>\n",
              "      <td>0</td>\n",
              "      <td>0</td>\n",
              "      <td>0</td>\n",
              "      <td>0</td>\n",
              "      <td>0.0</td>\n",
              "      <td>0.0</td>\n",
              "      <td>0.0</td>\n",
              "      <td>0.0</td>\n",
              "      <td>0.0</td>\n",
              "      <td>0.0</td>\n",
              "    </tr>\n",
              "    <tr>\n",
              "      <th>3</th>\n",
              "      <td>100006</td>\n",
              "      <td>0</td>\n",
              "      <td>Cash loans</td>\n",
              "      <td>F</td>\n",
              "      <td>N</td>\n",
              "      <td>Y</td>\n",
              "      <td>0</td>\n",
              "      <td>135000.0</td>\n",
              "      <td>312682.5</td>\n",
              "      <td>29686.5</td>\n",
              "      <td>...</td>\n",
              "      <td>0</td>\n",
              "      <td>0</td>\n",
              "      <td>0</td>\n",
              "      <td>0</td>\n",
              "      <td>NaN</td>\n",
              "      <td>NaN</td>\n",
              "      <td>NaN</td>\n",
              "      <td>NaN</td>\n",
              "      <td>NaN</td>\n",
              "      <td>NaN</td>\n",
              "    </tr>\n",
              "    <tr>\n",
              "      <th>4</th>\n",
              "      <td>100007</td>\n",
              "      <td>0</td>\n",
              "      <td>Cash loans</td>\n",
              "      <td>M</td>\n",
              "      <td>N</td>\n",
              "      <td>Y</td>\n",
              "      <td>0</td>\n",
              "      <td>121500.0</td>\n",
              "      <td>513000.0</td>\n",
              "      <td>21865.5</td>\n",
              "      <td>...</td>\n",
              "      <td>0</td>\n",
              "      <td>0</td>\n",
              "      <td>0</td>\n",
              "      <td>0</td>\n",
              "      <td>0.0</td>\n",
              "      <td>0.0</td>\n",
              "      <td>0.0</td>\n",
              "      <td>0.0</td>\n",
              "      <td>0.0</td>\n",
              "      <td>0.0</td>\n",
              "    </tr>\n",
              "    <tr>\n",
              "      <th>...</th>\n",
              "      <td>...</td>\n",
              "      <td>...</td>\n",
              "      <td>...</td>\n",
              "      <td>...</td>\n",
              "      <td>...</td>\n",
              "      <td>...</td>\n",
              "      <td>...</td>\n",
              "      <td>...</td>\n",
              "      <td>...</td>\n",
              "      <td>...</td>\n",
              "      <td>...</td>\n",
              "      <td>...</td>\n",
              "      <td>...</td>\n",
              "      <td>...</td>\n",
              "      <td>...</td>\n",
              "      <td>...</td>\n",
              "      <td>...</td>\n",
              "      <td>...</td>\n",
              "      <td>...</td>\n",
              "      <td>...</td>\n",
              "      <td>...</td>\n",
              "    </tr>\n",
              "    <tr>\n",
              "      <th>27161</th>\n",
              "      <td>131571</td>\n",
              "      <td>0</td>\n",
              "      <td>Cash loans</td>\n",
              "      <td>M</td>\n",
              "      <td>Y</td>\n",
              "      <td>N</td>\n",
              "      <td>1</td>\n",
              "      <td>202500.0</td>\n",
              "      <td>900000.0</td>\n",
              "      <td>46084.5</td>\n",
              "      <td>...</td>\n",
              "      <td>0</td>\n",
              "      <td>0</td>\n",
              "      <td>0</td>\n",
              "      <td>0</td>\n",
              "      <td>0.0</td>\n",
              "      <td>0.0</td>\n",
              "      <td>0.0</td>\n",
              "      <td>0.0</td>\n",
              "      <td>3.0</td>\n",
              "      <td>3.0</td>\n",
              "    </tr>\n",
              "    <tr>\n",
              "      <th>27162</th>\n",
              "      <td>131572</td>\n",
              "      <td>0</td>\n",
              "      <td>Cash loans</td>\n",
              "      <td>F</td>\n",
              "      <td>N</td>\n",
              "      <td>Y</td>\n",
              "      <td>0</td>\n",
              "      <td>112500.0</td>\n",
              "      <td>254700.0</td>\n",
              "      <td>24939.0</td>\n",
              "      <td>...</td>\n",
              "      <td>0</td>\n",
              "      <td>0</td>\n",
              "      <td>0</td>\n",
              "      <td>0</td>\n",
              "      <td>0.0</td>\n",
              "      <td>0.0</td>\n",
              "      <td>0.0</td>\n",
              "      <td>0.0</td>\n",
              "      <td>0.0</td>\n",
              "      <td>0.0</td>\n",
              "    </tr>\n",
              "    <tr>\n",
              "      <th>27163</th>\n",
              "      <td>131573</td>\n",
              "      <td>0</td>\n",
              "      <td>Revolving loans</td>\n",
              "      <td>F</td>\n",
              "      <td>N</td>\n",
              "      <td>Y</td>\n",
              "      <td>0</td>\n",
              "      <td>306000.0</td>\n",
              "      <td>135000.0</td>\n",
              "      <td>6750.0</td>\n",
              "      <td>...</td>\n",
              "      <td>0</td>\n",
              "      <td>0</td>\n",
              "      <td>0</td>\n",
              "      <td>0</td>\n",
              "      <td>0.0</td>\n",
              "      <td>0.0</td>\n",
              "      <td>0.0</td>\n",
              "      <td>0.0</td>\n",
              "      <td>0.0</td>\n",
              "      <td>6.0</td>\n",
              "    </tr>\n",
              "    <tr>\n",
              "      <th>27164</th>\n",
              "      <td>131574</td>\n",
              "      <td>0</td>\n",
              "      <td>Cash loans</td>\n",
              "      <td>F</td>\n",
              "      <td>Y</td>\n",
              "      <td>Y</td>\n",
              "      <td>0</td>\n",
              "      <td>202500.0</td>\n",
              "      <td>795465.0</td>\n",
              "      <td>31675.5</td>\n",
              "      <td>...</td>\n",
              "      <td>0</td>\n",
              "      <td>0</td>\n",
              "      <td>0</td>\n",
              "      <td>0</td>\n",
              "      <td>0.0</td>\n",
              "      <td>0.0</td>\n",
              "      <td>0.0</td>\n",
              "      <td>0.0</td>\n",
              "      <td>0.0</td>\n",
              "      <td>1.0</td>\n",
              "    </tr>\n",
              "    <tr>\n",
              "      <th>27165</th>\n",
              "      <td>131575</td>\n",
              "      <td>0</td>\n",
              "      <td>Cash loans</td>\n",
              "      <td>F</td>\n",
              "      <td>N</td>\n",
              "      <td>N</td>\n",
              "      <td>0</td>\n",
              "      <td>180000.0</td>\n",
              "      <td>225000.0</td>\n",
              "      <td>19246.5</td>\n",
              "      <td>...</td>\n",
              "      <td>0</td>\n",
              "      <td>0</td>\n",
              "      <td>0</td>\n",
              "      <td>0</td>\n",
              "      <td>0.0</td>\n",
              "      <td>0.0</td>\n",
              "      <td>0.0</td>\n",
              "      <td>0.0</td>\n",
              "      <td>NaN</td>\n",
              "      <td>NaN</td>\n",
              "    </tr>\n",
              "  </tbody>\n",
              "</table>\n",
              "<p>27166 rows × 122 columns</p>\n",
              "</div>\n",
              "      <button class=\"colab-df-convert\" onclick=\"convertToInteractive('df-a6fdd9fc-d359-4b1e-b530-c94f77f0beee')\"\n",
              "              title=\"Convert this dataframe to an interactive table.\"\n",
              "              style=\"display:none;\">\n",
              "        \n",
              "  <svg xmlns=\"http://www.w3.org/2000/svg\" height=\"24px\"viewBox=\"0 0 24 24\"\n",
              "       width=\"24px\">\n",
              "    <path d=\"M0 0h24v24H0V0z\" fill=\"none\"/>\n",
              "    <path d=\"M18.56 5.44l.94 2.06.94-2.06 2.06-.94-2.06-.94-.94-2.06-.94 2.06-2.06.94zm-11 1L8.5 8.5l.94-2.06 2.06-.94-2.06-.94L8.5 2.5l-.94 2.06-2.06.94zm10 10l.94 2.06.94-2.06 2.06-.94-2.06-.94-.94-2.06-.94 2.06-2.06.94z\"/><path d=\"M17.41 7.96l-1.37-1.37c-.4-.4-.92-.59-1.43-.59-.52 0-1.04.2-1.43.59L10.3 9.45l-7.72 7.72c-.78.78-.78 2.05 0 2.83L4 21.41c.39.39.9.59 1.41.59.51 0 1.02-.2 1.41-.59l7.78-7.78 2.81-2.81c.8-.78.8-2.07 0-2.86zM5.41 20L4 18.59l7.72-7.72 1.47 1.35L5.41 20z\"/>\n",
              "  </svg>\n",
              "      </button>\n",
              "      \n",
              "  <style>\n",
              "    .colab-df-container {\n",
              "      display:flex;\n",
              "      flex-wrap:wrap;\n",
              "      gap: 12px;\n",
              "    }\n",
              "\n",
              "    .colab-df-convert {\n",
              "      background-color: #E8F0FE;\n",
              "      border: none;\n",
              "      border-radius: 50%;\n",
              "      cursor: pointer;\n",
              "      display: none;\n",
              "      fill: #1967D2;\n",
              "      height: 32px;\n",
              "      padding: 0 0 0 0;\n",
              "      width: 32px;\n",
              "    }\n",
              "\n",
              "    .colab-df-convert:hover {\n",
              "      background-color: #E2EBFA;\n",
              "      box-shadow: 0px 1px 2px rgba(60, 64, 67, 0.3), 0px 1px 3px 1px rgba(60, 64, 67, 0.15);\n",
              "      fill: #174EA6;\n",
              "    }\n",
              "\n",
              "    [theme=dark] .colab-df-convert {\n",
              "      background-color: #3B4455;\n",
              "      fill: #D2E3FC;\n",
              "    }\n",
              "\n",
              "    [theme=dark] .colab-df-convert:hover {\n",
              "      background-color: #434B5C;\n",
              "      box-shadow: 0px 1px 3px 1px rgba(0, 0, 0, 0.15);\n",
              "      filter: drop-shadow(0px 1px 2px rgba(0, 0, 0, 0.3));\n",
              "      fill: #FFFFFF;\n",
              "    }\n",
              "  </style>\n",
              "\n",
              "      <script>\n",
              "        const buttonEl =\n",
              "          document.querySelector('#df-a6fdd9fc-d359-4b1e-b530-c94f77f0beee button.colab-df-convert');\n",
              "        buttonEl.style.display =\n",
              "          google.colab.kernel.accessAllowed ? 'block' : 'none';\n",
              "\n",
              "        async function convertToInteractive(key) {\n",
              "          const element = document.querySelector('#df-a6fdd9fc-d359-4b1e-b530-c94f77f0beee');\n",
              "          const dataTable =\n",
              "            await google.colab.kernel.invokeFunction('convertToInteractive',\n",
              "                                                     [key], {});\n",
              "          if (!dataTable) return;\n",
              "\n",
              "          const docLinkHtml = 'Like what you see? Visit the ' +\n",
              "            '<a target=\"_blank\" href=https://colab.research.google.com/notebooks/data_table.ipynb>data table notebook</a>'\n",
              "            + ' to learn more about interactive tables.';\n",
              "          element.innerHTML = '';\n",
              "          dataTable['output_type'] = 'display_data';\n",
              "          await google.colab.output.renderOutput(dataTable, element);\n",
              "          const docLink = document.createElement('div');\n",
              "          docLink.innerHTML = docLinkHtml;\n",
              "          element.appendChild(docLink);\n",
              "        }\n",
              "      </script>\n",
              "    </div>\n",
              "  </div>\n",
              "  "
            ]
          },
          "metadata": {},
          "execution_count": 18
        }
      ],
      "source": [
        "#reading the application data\n",
        "app_df=pd.read_csv(\"/content/drive/MyDrive/EDA Project/application_data.csv\")\n",
        "app_df"
      ]
    },
    {
      "cell_type": "code",
      "execution_count": null,
      "id": "2f7b16eb",
      "metadata": {
        "id": "2f7b16eb"
      },
      "outputs": [],
      "source": [
        "desc = pd.read_csv('columns_description.csv', encoding='latin')"
      ]
    },
    {
      "cell_type": "code",
      "execution_count": null,
      "id": "a2772852",
      "metadata": {
        "id": "a2772852",
        "outputId": "80031cc5-9021-47df-ed1b-62b28ddfb97c"
      },
      "outputs": [
        {
          "data": {
            "text/html": [
              "<div>\n",
              "<style scoped>\n",
              "    .dataframe tbody tr th:only-of-type {\n",
              "        vertical-align: middle;\n",
              "    }\n",
              "\n",
              "    .dataframe tbody tr th {\n",
              "        vertical-align: top;\n",
              "    }\n",
              "\n",
              "    .dataframe thead th {\n",
              "        text-align: right;\n",
              "    }\n",
              "</style>\n",
              "<table border=\"1\" class=\"dataframe\">\n",
              "  <thead>\n",
              "    <tr style=\"text-align: right;\">\n",
              "      <th></th>\n",
              "      <th>Unnamed: 0</th>\n",
              "      <th>Table</th>\n",
              "      <th>Row</th>\n",
              "      <th>Description</th>\n",
              "      <th>Special</th>\n",
              "    </tr>\n",
              "  </thead>\n",
              "  <tbody>\n",
              "    <tr>\n",
              "      <th>0</th>\n",
              "      <td>1</td>\n",
              "      <td>application_data</td>\n",
              "      <td>SK_ID_CURR</td>\n",
              "      <td>ID of loan in our sample</td>\n",
              "      <td>NaN</td>\n",
              "    </tr>\n",
              "    <tr>\n",
              "      <th>1</th>\n",
              "      <td>2</td>\n",
              "      <td>application_data</td>\n",
              "      <td>TARGET</td>\n",
              "      <td>Target variable (1 - client with payment diffi...</td>\n",
              "      <td>NaN</td>\n",
              "    </tr>\n",
              "    <tr>\n",
              "      <th>2</th>\n",
              "      <td>5</td>\n",
              "      <td>application_data</td>\n",
              "      <td>NAME_CONTRACT_TYPE</td>\n",
              "      <td>Identification if loan is cash or revolving</td>\n",
              "      <td>NaN</td>\n",
              "    </tr>\n",
              "    <tr>\n",
              "      <th>3</th>\n",
              "      <td>6</td>\n",
              "      <td>application_data</td>\n",
              "      <td>CODE_GENDER</td>\n",
              "      <td>Gender of the client</td>\n",
              "      <td>NaN</td>\n",
              "    </tr>\n",
              "    <tr>\n",
              "      <th>4</th>\n",
              "      <td>7</td>\n",
              "      <td>application_data</td>\n",
              "      <td>FLAG_OWN_CAR</td>\n",
              "      <td>Flag if the client owns a car</td>\n",
              "      <td>NaN</td>\n",
              "    </tr>\n",
              "    <tr>\n",
              "      <th>...</th>\n",
              "      <td>...</td>\n",
              "      <td>...</td>\n",
              "      <td>...</td>\n",
              "      <td>...</td>\n",
              "      <td>...</td>\n",
              "    </tr>\n",
              "    <tr>\n",
              "      <th>155</th>\n",
              "      <td>209</td>\n",
              "      <td>previous_application.csv</td>\n",
              "      <td>DAYS_FIRST_DUE</td>\n",
              "      <td>Relative to application date of current applic...</td>\n",
              "      <td>time only relative to the application</td>\n",
              "    </tr>\n",
              "    <tr>\n",
              "      <th>156</th>\n",
              "      <td>210</td>\n",
              "      <td>previous_application.csv</td>\n",
              "      <td>DAYS_LAST_DUE_1ST_VERSION</td>\n",
              "      <td>Relative to application date of current applic...</td>\n",
              "      <td>time only relative to the application</td>\n",
              "    </tr>\n",
              "    <tr>\n",
              "      <th>157</th>\n",
              "      <td>211</td>\n",
              "      <td>previous_application.csv</td>\n",
              "      <td>DAYS_LAST_DUE</td>\n",
              "      <td>Relative to application date of current applic...</td>\n",
              "      <td>time only relative to the application</td>\n",
              "    </tr>\n",
              "    <tr>\n",
              "      <th>158</th>\n",
              "      <td>212</td>\n",
              "      <td>previous_application.csv</td>\n",
              "      <td>DAYS_TERMINATION</td>\n",
              "      <td>Relative to application date of current applic...</td>\n",
              "      <td>time only relative to the application</td>\n",
              "    </tr>\n",
              "    <tr>\n",
              "      <th>159</th>\n",
              "      <td>213</td>\n",
              "      <td>previous_application.csv</td>\n",
              "      <td>NFLAG_INSURED_ON_APPROVAL</td>\n",
              "      <td>Did the client requested insurance during the ...</td>\n",
              "      <td>NaN</td>\n",
              "    </tr>\n",
              "  </tbody>\n",
              "</table>\n",
              "<p>160 rows × 5 columns</p>\n",
              "</div>"
            ],
            "text/plain": [
              "     Unnamed: 0                     Table                        Row  \\\n",
              "0             1          application_data                 SK_ID_CURR   \n",
              "1             2          application_data                     TARGET   \n",
              "2             5          application_data         NAME_CONTRACT_TYPE   \n",
              "3             6          application_data                CODE_GENDER   \n",
              "4             7          application_data               FLAG_OWN_CAR   \n",
              "..          ...                       ...                        ...   \n",
              "155         209  previous_application.csv             DAYS_FIRST_DUE   \n",
              "156         210  previous_application.csv  DAYS_LAST_DUE_1ST_VERSION   \n",
              "157         211  previous_application.csv              DAYS_LAST_DUE   \n",
              "158         212  previous_application.csv           DAYS_TERMINATION   \n",
              "159         213  previous_application.csv  NFLAG_INSURED_ON_APPROVAL   \n",
              "\n",
              "                                           Description  \\\n",
              "0                             ID of loan in our sample   \n",
              "1    Target variable (1 - client with payment diffi...   \n",
              "2          Identification if loan is cash or revolving   \n",
              "3                                 Gender of the client   \n",
              "4                        Flag if the client owns a car   \n",
              "..                                                 ...   \n",
              "155  Relative to application date of current applic...   \n",
              "156  Relative to application date of current applic...   \n",
              "157  Relative to application date of current applic...   \n",
              "158  Relative to application date of current applic...   \n",
              "159  Did the client requested insurance during the ...   \n",
              "\n",
              "                                   Special  \n",
              "0                                      NaN  \n",
              "1                                      NaN  \n",
              "2                                      NaN  \n",
              "3                                      NaN  \n",
              "4                                      NaN  \n",
              "..                                     ...  \n",
              "155  time only relative to the application  \n",
              "156  time only relative to the application  \n",
              "157  time only relative to the application  \n",
              "158  time only relative to the application  \n",
              "159                                    NaN  \n",
              "\n",
              "[160 rows x 5 columns]"
            ]
          },
          "execution_count": 4,
          "metadata": {},
          "output_type": "execute_result"
        }
      ],
      "source": [
        "desc"
      ]
    },
    {
      "cell_type": "code",
      "execution_count": null,
      "id": "34debbe4",
      "metadata": {
        "id": "34debbe4",
        "outputId": "075fb7de-58d5-43b2-d4e7-56ec614fe089"
      },
      "outputs": [
        {
          "name": "stdout",
          "output_type": "stream",
          "text": [
            "<class 'pandas.core.frame.DataFrame'>\n",
            "RangeIndex: 307511 entries, 0 to 307510\n",
            "Data columns (total 122 columns):\n",
            " #    Column                        Dtype  \n",
            "---   ------                        -----  \n",
            " 0    SK_ID_CURR                    int64  \n",
            " 1    TARGET                        int64  \n",
            " 2    NAME_CONTRACT_TYPE            object \n",
            " 3    CODE_GENDER                   object \n",
            " 4    FLAG_OWN_CAR                  object \n",
            " 5    FLAG_OWN_REALTY               object \n",
            " 6    CNT_CHILDREN                  int64  \n",
            " 7    AMT_INCOME_TOTAL              float64\n",
            " 8    AMT_CREDIT                    float64\n",
            " 9    AMT_ANNUITY                   float64\n",
            " 10   AMT_GOODS_PRICE               float64\n",
            " 11   NAME_TYPE_SUITE               object \n",
            " 12   NAME_INCOME_TYPE              object \n",
            " 13   NAME_EDUCATION_TYPE           object \n",
            " 14   NAME_FAMILY_STATUS            object \n",
            " 15   NAME_HOUSING_TYPE             object \n",
            " 16   REGION_POPULATION_RELATIVE    float64\n",
            " 17   DAYS_BIRTH                    int64  \n",
            " 18   DAYS_EMPLOYED                 int64  \n",
            " 19   DAYS_REGISTRATION             float64\n",
            " 20   DAYS_ID_PUBLISH               int64  \n",
            " 21   OWN_CAR_AGE                   float64\n",
            " 22   FLAG_MOBIL                    int64  \n",
            " 23   FLAG_EMP_PHONE                int64  \n",
            " 24   FLAG_WORK_PHONE               int64  \n",
            " 25   FLAG_CONT_MOBILE              int64  \n",
            " 26   FLAG_PHONE                    int64  \n",
            " 27   FLAG_EMAIL                    int64  \n",
            " 28   OCCUPATION_TYPE               object \n",
            " 29   CNT_FAM_MEMBERS               float64\n",
            " 30   REGION_RATING_CLIENT          int64  \n",
            " 31   REGION_RATING_CLIENT_W_CITY   int64  \n",
            " 32   WEEKDAY_APPR_PROCESS_START    object \n",
            " 33   HOUR_APPR_PROCESS_START       int64  \n",
            " 34   REG_REGION_NOT_LIVE_REGION    int64  \n",
            " 35   REG_REGION_NOT_WORK_REGION    int64  \n",
            " 36   LIVE_REGION_NOT_WORK_REGION   int64  \n",
            " 37   REG_CITY_NOT_LIVE_CITY        int64  \n",
            " 38   REG_CITY_NOT_WORK_CITY        int64  \n",
            " 39   LIVE_CITY_NOT_WORK_CITY       int64  \n",
            " 40   ORGANIZATION_TYPE             object \n",
            " 41   EXT_SOURCE_1                  float64\n",
            " 42   EXT_SOURCE_2                  float64\n",
            " 43   EXT_SOURCE_3                  float64\n",
            " 44   APARTMENTS_AVG                float64\n",
            " 45   BASEMENTAREA_AVG              float64\n",
            " 46   YEARS_BEGINEXPLUATATION_AVG   float64\n",
            " 47   YEARS_BUILD_AVG               float64\n",
            " 48   COMMONAREA_AVG                float64\n",
            " 49   ELEVATORS_AVG                 float64\n",
            " 50   ENTRANCES_AVG                 float64\n",
            " 51   FLOORSMAX_AVG                 float64\n",
            " 52   FLOORSMIN_AVG                 float64\n",
            " 53   LANDAREA_AVG                  float64\n",
            " 54   LIVINGAPARTMENTS_AVG          float64\n",
            " 55   LIVINGAREA_AVG                float64\n",
            " 56   NONLIVINGAPARTMENTS_AVG       float64\n",
            " 57   NONLIVINGAREA_AVG             float64\n",
            " 58   APARTMENTS_MODE               float64\n",
            " 59   BASEMENTAREA_MODE             float64\n",
            " 60   YEARS_BEGINEXPLUATATION_MODE  float64\n",
            " 61   YEARS_BUILD_MODE              float64\n",
            " 62   COMMONAREA_MODE               float64\n",
            " 63   ELEVATORS_MODE                float64\n",
            " 64   ENTRANCES_MODE                float64\n",
            " 65   FLOORSMAX_MODE                float64\n",
            " 66   FLOORSMIN_MODE                float64\n",
            " 67   LANDAREA_MODE                 float64\n",
            " 68   LIVINGAPARTMENTS_MODE         float64\n",
            " 69   LIVINGAREA_MODE               float64\n",
            " 70   NONLIVINGAPARTMENTS_MODE      float64\n",
            " 71   NONLIVINGAREA_MODE            float64\n",
            " 72   APARTMENTS_MEDI               float64\n",
            " 73   BASEMENTAREA_MEDI             float64\n",
            " 74   YEARS_BEGINEXPLUATATION_MEDI  float64\n",
            " 75   YEARS_BUILD_MEDI              float64\n",
            " 76   COMMONAREA_MEDI               float64\n",
            " 77   ELEVATORS_MEDI                float64\n",
            " 78   ENTRANCES_MEDI                float64\n",
            " 79   FLOORSMAX_MEDI                float64\n",
            " 80   FLOORSMIN_MEDI                float64\n",
            " 81   LANDAREA_MEDI                 float64\n",
            " 82   LIVINGAPARTMENTS_MEDI         float64\n",
            " 83   LIVINGAREA_MEDI               float64\n",
            " 84   NONLIVINGAPARTMENTS_MEDI      float64\n",
            " 85   NONLIVINGAREA_MEDI            float64\n",
            " 86   FONDKAPREMONT_MODE            object \n",
            " 87   HOUSETYPE_MODE                object \n",
            " 88   TOTALAREA_MODE                float64\n",
            " 89   WALLSMATERIAL_MODE            object \n",
            " 90   EMERGENCYSTATE_MODE           object \n",
            " 91   OBS_30_CNT_SOCIAL_CIRCLE      float64\n",
            " 92   DEF_30_CNT_SOCIAL_CIRCLE      float64\n",
            " 93   OBS_60_CNT_SOCIAL_CIRCLE      float64\n",
            " 94   DEF_60_CNT_SOCIAL_CIRCLE      float64\n",
            " 95   DAYS_LAST_PHONE_CHANGE        float64\n",
            " 96   FLAG_DOCUMENT_2               int64  \n",
            " 97   FLAG_DOCUMENT_3               int64  \n",
            " 98   FLAG_DOCUMENT_4               int64  \n",
            " 99   FLAG_DOCUMENT_5               int64  \n",
            " 100  FLAG_DOCUMENT_6               int64  \n",
            " 101  FLAG_DOCUMENT_7               int64  \n",
            " 102  FLAG_DOCUMENT_8               int64  \n",
            " 103  FLAG_DOCUMENT_9               int64  \n",
            " 104  FLAG_DOCUMENT_10              int64  \n",
            " 105  FLAG_DOCUMENT_11              int64  \n",
            " 106  FLAG_DOCUMENT_12              int64  \n",
            " 107  FLAG_DOCUMENT_13              int64  \n",
            " 108  FLAG_DOCUMENT_14              int64  \n",
            " 109  FLAG_DOCUMENT_15              int64  \n",
            " 110  FLAG_DOCUMENT_16              int64  \n",
            " 111  FLAG_DOCUMENT_17              int64  \n",
            " 112  FLAG_DOCUMENT_18              int64  \n",
            " 113  FLAG_DOCUMENT_19              int64  \n",
            " 114  FLAG_DOCUMENT_20              int64  \n",
            " 115  FLAG_DOCUMENT_21              int64  \n",
            " 116  AMT_REQ_CREDIT_BUREAU_HOUR    float64\n",
            " 117  AMT_REQ_CREDIT_BUREAU_DAY     float64\n",
            " 118  AMT_REQ_CREDIT_BUREAU_WEEK    float64\n",
            " 119  AMT_REQ_CREDIT_BUREAU_MON     float64\n",
            " 120  AMT_REQ_CREDIT_BUREAU_QRT     float64\n",
            " 121  AMT_REQ_CREDIT_BUREAU_YEAR    float64\n",
            "dtypes: float64(65), int64(41), object(16)\n",
            "memory usage: 286.2+ MB\n"
          ]
        }
      ],
      "source": [
        "#Finding the datatype of each column using info()\n",
        "app_df.info(verbose=True) #verbose used when data has too many columns"
      ]
    },
    {
      "cell_type": "code",
      "execution_count": null,
      "id": "8f4c8e92",
      "metadata": {
        "scrolled": true,
        "id": "8f4c8e92",
        "outputId": "f6268493-fab2-4e2f-b957-62c0512586ff"
      },
      "outputs": [
        {
          "data": {
            "text/html": [
              "<div>\n",
              "<style scoped>\n",
              "    .dataframe tbody tr th:only-of-type {\n",
              "        vertical-align: middle;\n",
              "    }\n",
              "\n",
              "    .dataframe tbody tr th {\n",
              "        vertical-align: top;\n",
              "    }\n",
              "\n",
              "    .dataframe thead th {\n",
              "        text-align: right;\n",
              "    }\n",
              "</style>\n",
              "<table border=\"1\" class=\"dataframe\">\n",
              "  <thead>\n",
              "    <tr style=\"text-align: right;\">\n",
              "      <th></th>\n",
              "      <th>SK_ID_CURR</th>\n",
              "      <th>TARGET</th>\n",
              "      <th>CNT_CHILDREN</th>\n",
              "      <th>AMT_INCOME_TOTAL</th>\n",
              "      <th>AMT_CREDIT</th>\n",
              "      <th>AMT_ANNUITY</th>\n",
              "      <th>AMT_GOODS_PRICE</th>\n",
              "      <th>REGION_POPULATION_RELATIVE</th>\n",
              "      <th>DAYS_BIRTH</th>\n",
              "      <th>DAYS_EMPLOYED</th>\n",
              "      <th>...</th>\n",
              "      <th>FLAG_DOCUMENT_18</th>\n",
              "      <th>FLAG_DOCUMENT_19</th>\n",
              "      <th>FLAG_DOCUMENT_20</th>\n",
              "      <th>FLAG_DOCUMENT_21</th>\n",
              "      <th>AMT_REQ_CREDIT_BUREAU_HOUR</th>\n",
              "      <th>AMT_REQ_CREDIT_BUREAU_DAY</th>\n",
              "      <th>AMT_REQ_CREDIT_BUREAU_WEEK</th>\n",
              "      <th>AMT_REQ_CREDIT_BUREAU_MON</th>\n",
              "      <th>AMT_REQ_CREDIT_BUREAU_QRT</th>\n",
              "      <th>AMT_REQ_CREDIT_BUREAU_YEAR</th>\n",
              "    </tr>\n",
              "  </thead>\n",
              "  <tbody>\n",
              "    <tr>\n",
              "      <th>count</th>\n",
              "      <td>307511.000000</td>\n",
              "      <td>307511.000000</td>\n",
              "      <td>307511.000000</td>\n",
              "      <td>3.075110e+05</td>\n",
              "      <td>3.075110e+05</td>\n",
              "      <td>307499.000000</td>\n",
              "      <td>3.072330e+05</td>\n",
              "      <td>307511.000000</td>\n",
              "      <td>307511.000000</td>\n",
              "      <td>307511.000000</td>\n",
              "      <td>...</td>\n",
              "      <td>307511.000000</td>\n",
              "      <td>307511.000000</td>\n",
              "      <td>307511.000000</td>\n",
              "      <td>307511.000000</td>\n",
              "      <td>265992.000000</td>\n",
              "      <td>265992.000000</td>\n",
              "      <td>265992.000000</td>\n",
              "      <td>265992.000000</td>\n",
              "      <td>265992.000000</td>\n",
              "      <td>265992.000000</td>\n",
              "    </tr>\n",
              "    <tr>\n",
              "      <th>mean</th>\n",
              "      <td>278180.518577</td>\n",
              "      <td>0.080729</td>\n",
              "      <td>0.417052</td>\n",
              "      <td>1.687979e+05</td>\n",
              "      <td>5.990260e+05</td>\n",
              "      <td>27108.573909</td>\n",
              "      <td>5.383962e+05</td>\n",
              "      <td>0.020868</td>\n",
              "      <td>-16036.995067</td>\n",
              "      <td>63815.045904</td>\n",
              "      <td>...</td>\n",
              "      <td>0.008130</td>\n",
              "      <td>0.000595</td>\n",
              "      <td>0.000507</td>\n",
              "      <td>0.000335</td>\n",
              "      <td>0.006402</td>\n",
              "      <td>0.007000</td>\n",
              "      <td>0.034362</td>\n",
              "      <td>0.267395</td>\n",
              "      <td>0.265474</td>\n",
              "      <td>1.899974</td>\n",
              "    </tr>\n",
              "    <tr>\n",
              "      <th>std</th>\n",
              "      <td>102790.175348</td>\n",
              "      <td>0.272419</td>\n",
              "      <td>0.722121</td>\n",
              "      <td>2.371231e+05</td>\n",
              "      <td>4.024908e+05</td>\n",
              "      <td>14493.737315</td>\n",
              "      <td>3.694465e+05</td>\n",
              "      <td>0.013831</td>\n",
              "      <td>4363.988632</td>\n",
              "      <td>141275.766519</td>\n",
              "      <td>...</td>\n",
              "      <td>0.089798</td>\n",
              "      <td>0.024387</td>\n",
              "      <td>0.022518</td>\n",
              "      <td>0.018299</td>\n",
              "      <td>0.083849</td>\n",
              "      <td>0.110757</td>\n",
              "      <td>0.204685</td>\n",
              "      <td>0.916002</td>\n",
              "      <td>0.794056</td>\n",
              "      <td>1.869295</td>\n",
              "    </tr>\n",
              "    <tr>\n",
              "      <th>min</th>\n",
              "      <td>100002.000000</td>\n",
              "      <td>0.000000</td>\n",
              "      <td>0.000000</td>\n",
              "      <td>2.565000e+04</td>\n",
              "      <td>4.500000e+04</td>\n",
              "      <td>1615.500000</td>\n",
              "      <td>4.050000e+04</td>\n",
              "      <td>0.000290</td>\n",
              "      <td>-25229.000000</td>\n",
              "      <td>-17912.000000</td>\n",
              "      <td>...</td>\n",
              "      <td>0.000000</td>\n",
              "      <td>0.000000</td>\n",
              "      <td>0.000000</td>\n",
              "      <td>0.000000</td>\n",
              "      <td>0.000000</td>\n",
              "      <td>0.000000</td>\n",
              "      <td>0.000000</td>\n",
              "      <td>0.000000</td>\n",
              "      <td>0.000000</td>\n",
              "      <td>0.000000</td>\n",
              "    </tr>\n",
              "    <tr>\n",
              "      <th>25%</th>\n",
              "      <td>189145.500000</td>\n",
              "      <td>0.000000</td>\n",
              "      <td>0.000000</td>\n",
              "      <td>1.125000e+05</td>\n",
              "      <td>2.700000e+05</td>\n",
              "      <td>16524.000000</td>\n",
              "      <td>2.385000e+05</td>\n",
              "      <td>0.010006</td>\n",
              "      <td>-19682.000000</td>\n",
              "      <td>-2760.000000</td>\n",
              "      <td>...</td>\n",
              "      <td>0.000000</td>\n",
              "      <td>0.000000</td>\n",
              "      <td>0.000000</td>\n",
              "      <td>0.000000</td>\n",
              "      <td>0.000000</td>\n",
              "      <td>0.000000</td>\n",
              "      <td>0.000000</td>\n",
              "      <td>0.000000</td>\n",
              "      <td>0.000000</td>\n",
              "      <td>0.000000</td>\n",
              "    </tr>\n",
              "    <tr>\n",
              "      <th>50%</th>\n",
              "      <td>278202.000000</td>\n",
              "      <td>0.000000</td>\n",
              "      <td>0.000000</td>\n",
              "      <td>1.471500e+05</td>\n",
              "      <td>5.135310e+05</td>\n",
              "      <td>24903.000000</td>\n",
              "      <td>4.500000e+05</td>\n",
              "      <td>0.018850</td>\n",
              "      <td>-15750.000000</td>\n",
              "      <td>-1213.000000</td>\n",
              "      <td>...</td>\n",
              "      <td>0.000000</td>\n",
              "      <td>0.000000</td>\n",
              "      <td>0.000000</td>\n",
              "      <td>0.000000</td>\n",
              "      <td>0.000000</td>\n",
              "      <td>0.000000</td>\n",
              "      <td>0.000000</td>\n",
              "      <td>0.000000</td>\n",
              "      <td>0.000000</td>\n",
              "      <td>1.000000</td>\n",
              "    </tr>\n",
              "    <tr>\n",
              "      <th>75%</th>\n",
              "      <td>367142.500000</td>\n",
              "      <td>0.000000</td>\n",
              "      <td>1.000000</td>\n",
              "      <td>2.025000e+05</td>\n",
              "      <td>8.086500e+05</td>\n",
              "      <td>34596.000000</td>\n",
              "      <td>6.795000e+05</td>\n",
              "      <td>0.028663</td>\n",
              "      <td>-12413.000000</td>\n",
              "      <td>-289.000000</td>\n",
              "      <td>...</td>\n",
              "      <td>0.000000</td>\n",
              "      <td>0.000000</td>\n",
              "      <td>0.000000</td>\n",
              "      <td>0.000000</td>\n",
              "      <td>0.000000</td>\n",
              "      <td>0.000000</td>\n",
              "      <td>0.000000</td>\n",
              "      <td>0.000000</td>\n",
              "      <td>0.000000</td>\n",
              "      <td>3.000000</td>\n",
              "    </tr>\n",
              "    <tr>\n",
              "      <th>max</th>\n",
              "      <td>456255.000000</td>\n",
              "      <td>1.000000</td>\n",
              "      <td>19.000000</td>\n",
              "      <td>1.170000e+08</td>\n",
              "      <td>4.050000e+06</td>\n",
              "      <td>258025.500000</td>\n",
              "      <td>4.050000e+06</td>\n",
              "      <td>0.072508</td>\n",
              "      <td>-7489.000000</td>\n",
              "      <td>365243.000000</td>\n",
              "      <td>...</td>\n",
              "      <td>1.000000</td>\n",
              "      <td>1.000000</td>\n",
              "      <td>1.000000</td>\n",
              "      <td>1.000000</td>\n",
              "      <td>4.000000</td>\n",
              "      <td>9.000000</td>\n",
              "      <td>8.000000</td>\n",
              "      <td>27.000000</td>\n",
              "      <td>261.000000</td>\n",
              "      <td>25.000000</td>\n",
              "    </tr>\n",
              "  </tbody>\n",
              "</table>\n",
              "<p>8 rows × 106 columns</p>\n",
              "</div>"
            ],
            "text/plain": [
              "          SK_ID_CURR         TARGET   CNT_CHILDREN  AMT_INCOME_TOTAL  \\\n",
              "count  307511.000000  307511.000000  307511.000000      3.075110e+05   \n",
              "mean   278180.518577       0.080729       0.417052      1.687979e+05   \n",
              "std    102790.175348       0.272419       0.722121      2.371231e+05   \n",
              "min    100002.000000       0.000000       0.000000      2.565000e+04   \n",
              "25%    189145.500000       0.000000       0.000000      1.125000e+05   \n",
              "50%    278202.000000       0.000000       0.000000      1.471500e+05   \n",
              "75%    367142.500000       0.000000       1.000000      2.025000e+05   \n",
              "max    456255.000000       1.000000      19.000000      1.170000e+08   \n",
              "\n",
              "         AMT_CREDIT    AMT_ANNUITY  AMT_GOODS_PRICE  \\\n",
              "count  3.075110e+05  307499.000000     3.072330e+05   \n",
              "mean   5.990260e+05   27108.573909     5.383962e+05   \n",
              "std    4.024908e+05   14493.737315     3.694465e+05   \n",
              "min    4.500000e+04    1615.500000     4.050000e+04   \n",
              "25%    2.700000e+05   16524.000000     2.385000e+05   \n",
              "50%    5.135310e+05   24903.000000     4.500000e+05   \n",
              "75%    8.086500e+05   34596.000000     6.795000e+05   \n",
              "max    4.050000e+06  258025.500000     4.050000e+06   \n",
              "\n",
              "       REGION_POPULATION_RELATIVE     DAYS_BIRTH  DAYS_EMPLOYED  ...  \\\n",
              "count               307511.000000  307511.000000  307511.000000  ...   \n",
              "mean                     0.020868  -16036.995067   63815.045904  ...   \n",
              "std                      0.013831    4363.988632  141275.766519  ...   \n",
              "min                      0.000290  -25229.000000  -17912.000000  ...   \n",
              "25%                      0.010006  -19682.000000   -2760.000000  ...   \n",
              "50%                      0.018850  -15750.000000   -1213.000000  ...   \n",
              "75%                      0.028663  -12413.000000    -289.000000  ...   \n",
              "max                      0.072508   -7489.000000  365243.000000  ...   \n",
              "\n",
              "       FLAG_DOCUMENT_18  FLAG_DOCUMENT_19  FLAG_DOCUMENT_20  FLAG_DOCUMENT_21  \\\n",
              "count     307511.000000     307511.000000     307511.000000     307511.000000   \n",
              "mean           0.008130          0.000595          0.000507          0.000335   \n",
              "std            0.089798          0.024387          0.022518          0.018299   \n",
              "min            0.000000          0.000000          0.000000          0.000000   \n",
              "25%            0.000000          0.000000          0.000000          0.000000   \n",
              "50%            0.000000          0.000000          0.000000          0.000000   \n",
              "75%            0.000000          0.000000          0.000000          0.000000   \n",
              "max            1.000000          1.000000          1.000000          1.000000   \n",
              "\n",
              "       AMT_REQ_CREDIT_BUREAU_HOUR  AMT_REQ_CREDIT_BUREAU_DAY  \\\n",
              "count               265992.000000              265992.000000   \n",
              "mean                     0.006402                   0.007000   \n",
              "std                      0.083849                   0.110757   \n",
              "min                      0.000000                   0.000000   \n",
              "25%                      0.000000                   0.000000   \n",
              "50%                      0.000000                   0.000000   \n",
              "75%                      0.000000                   0.000000   \n",
              "max                      4.000000                   9.000000   \n",
              "\n",
              "       AMT_REQ_CREDIT_BUREAU_WEEK  AMT_REQ_CREDIT_BUREAU_MON  \\\n",
              "count               265992.000000              265992.000000   \n",
              "mean                     0.034362                   0.267395   \n",
              "std                      0.204685                   0.916002   \n",
              "min                      0.000000                   0.000000   \n",
              "25%                      0.000000                   0.000000   \n",
              "50%                      0.000000                   0.000000   \n",
              "75%                      0.000000                   0.000000   \n",
              "max                      8.000000                  27.000000   \n",
              "\n",
              "       AMT_REQ_CREDIT_BUREAU_QRT  AMT_REQ_CREDIT_BUREAU_YEAR  \n",
              "count              265992.000000               265992.000000  \n",
              "mean                    0.265474                    1.899974  \n",
              "std                     0.794056                    1.869295  \n",
              "min                     0.000000                    0.000000  \n",
              "25%                     0.000000                    0.000000  \n",
              "50%                     0.000000                    1.000000  \n",
              "75%                     0.000000                    3.000000  \n",
              "max                   261.000000                   25.000000  \n",
              "\n",
              "[8 rows x 106 columns]"
            ]
          },
          "execution_count": 6,
          "metadata": {},
          "output_type": "execute_result"
        }
      ],
      "source": [
        "#summarising statistics for numerical columns\n",
        "app_df.describe()"
      ]
    },
    {
      "cell_type": "markdown",
      "id": "5f1fe08d",
      "metadata": {
        "id": "5f1fe08d"
      },
      "source": [
        "### NO.OF ROWS AND COLUMNS IN THIS DATASET "
      ]
    },
    {
      "cell_type": "code",
      "execution_count": null,
      "id": "469af252",
      "metadata": {
        "id": "469af252",
        "outputId": "3b372b64-df3e-44e2-d2c6-c4d3b4fd55e2"
      },
      "outputs": [
        {
          "data": {
            "text/plain": [
              "(307511, 122)"
            ]
          },
          "execution_count": 7,
          "metadata": {},
          "output_type": "execute_result"
        }
      ],
      "source": [
        "app_df.shape"
      ]
    },
    {
      "cell_type": "markdown",
      "id": "b582c57f",
      "metadata": {
        "id": "b582c57f"
      },
      "source": [
        "## DESCRIPTION OF EACH COLUMN "
      ]
    },
    {
      "cell_type": "code",
      "execution_count": null,
      "id": "b02a7d6f",
      "metadata": {
        "id": "b02a7d6f"
      },
      "outputs": [],
      "source": [
        "desc_appl_data = desc.loc[desc.Table =='application_data']"
      ]
    },
    {
      "cell_type": "code",
      "execution_count": null,
      "id": "95102677",
      "metadata": {
        "scrolled": true,
        "id": "95102677",
        "outputId": "2549e9cb-c3dd-4625-9d7f-946d1223b33b"
      },
      "outputs": [
        {
          "data": {
            "text/html": [
              "<div>\n",
              "<style scoped>\n",
              "    .dataframe tbody tr th:only-of-type {\n",
              "        vertical-align: middle;\n",
              "    }\n",
              "\n",
              "    .dataframe tbody tr th {\n",
              "        vertical-align: top;\n",
              "    }\n",
              "\n",
              "    .dataframe thead th {\n",
              "        text-align: right;\n",
              "    }\n",
              "</style>\n",
              "<table border=\"1\" class=\"dataframe\">\n",
              "  <thead>\n",
              "    <tr style=\"text-align: right;\">\n",
              "      <th></th>\n",
              "      <th>Row</th>\n",
              "      <th>Description</th>\n",
              "    </tr>\n",
              "  </thead>\n",
              "  <tbody>\n",
              "    <tr>\n",
              "      <th>0</th>\n",
              "      <td>AMT_ANNUITY</td>\n",
              "      <td>Loan annuity</td>\n",
              "    </tr>\n",
              "    <tr>\n",
              "      <th>1</th>\n",
              "      <td>AMT_GOODS_PRICE</td>\n",
              "      <td>For consumer loans it is the price of the good...</td>\n",
              "    </tr>\n",
              "    <tr>\n",
              "      <th>2</th>\n",
              "      <td>NAME_TYPE_SUITE</td>\n",
              "      <td>Who was accompanying client when he was applyi...</td>\n",
              "    </tr>\n",
              "    <tr>\n",
              "      <th>3</th>\n",
              "      <td>OWN_CAR_AGE</td>\n",
              "      <td>Age of client's car</td>\n",
              "    </tr>\n",
              "    <tr>\n",
              "      <th>4</th>\n",
              "      <td>OCCUPATION_TYPE</td>\n",
              "      <td>What kind of occupation does the client have</td>\n",
              "    </tr>\n",
              "    <tr>\n",
              "      <th>...</th>\n",
              "      <td>...</td>\n",
              "      <td>...</td>\n",
              "    </tr>\n",
              "    <tr>\n",
              "      <th>62</th>\n",
              "      <td>AMT_REQ_CREDIT_BUREAU_DAY</td>\n",
              "      <td>Number of enquiries to Credit Bureau about the...</td>\n",
              "    </tr>\n",
              "    <tr>\n",
              "      <th>63</th>\n",
              "      <td>AMT_REQ_CREDIT_BUREAU_WEEK</td>\n",
              "      <td>Number of enquiries to Credit Bureau about the...</td>\n",
              "    </tr>\n",
              "    <tr>\n",
              "      <th>64</th>\n",
              "      <td>AMT_REQ_CREDIT_BUREAU_MON</td>\n",
              "      <td>Number of enquiries to Credit Bureau about the...</td>\n",
              "    </tr>\n",
              "    <tr>\n",
              "      <th>65</th>\n",
              "      <td>AMT_REQ_CREDIT_BUREAU_QRT</td>\n",
              "      <td>Number of enquiries to Credit Bureau about the...</td>\n",
              "    </tr>\n",
              "    <tr>\n",
              "      <th>66</th>\n",
              "      <td>AMT_REQ_CREDIT_BUREAU_YEAR</td>\n",
              "      <td>Number of enquiries to Credit Bureau about the...</td>\n",
              "    </tr>\n",
              "  </tbody>\n",
              "</table>\n",
              "<p>67 rows × 2 columns</p>\n",
              "</div>"
            ],
            "text/plain": [
              "                           Row  \\\n",
              "0                  AMT_ANNUITY   \n",
              "1              AMT_GOODS_PRICE   \n",
              "2              NAME_TYPE_SUITE   \n",
              "3                  OWN_CAR_AGE   \n",
              "4              OCCUPATION_TYPE   \n",
              "..                         ...   \n",
              "62   AMT_REQ_CREDIT_BUREAU_DAY   \n",
              "63  AMT_REQ_CREDIT_BUREAU_WEEK   \n",
              "64   AMT_REQ_CREDIT_BUREAU_MON   \n",
              "65   AMT_REQ_CREDIT_BUREAU_QRT   \n",
              "66  AMT_REQ_CREDIT_BUREAU_YEAR   \n",
              "\n",
              "                                          Description  \n",
              "0                                        Loan annuity  \n",
              "1   For consumer loans it is the price of the good...  \n",
              "2   Who was accompanying client when he was applyi...  \n",
              "3                                 Age of client's car  \n",
              "4        What kind of occupation does the client have  \n",
              "..                                                ...  \n",
              "62  Number of enquiries to Credit Bureau about the...  \n",
              "63  Number of enquiries to Credit Bureau about the...  \n",
              "64  Number of enquiries to Credit Bureau about the...  \n",
              "65  Number of enquiries to Credit Bureau about the...  \n",
              "66  Number of enquiries to Credit Bureau about the...  \n",
              "\n",
              "[67 rows x 2 columns]"
            ]
          },
          "execution_count": 15,
          "metadata": {},
          "output_type": "execute_result"
        }
      ],
      "source": [
        "analyse_emptycol_df = pd.merge(left=emptycol_df,right=desc_appl_data,how='inner',on='Row')\n",
        "analyse_emptycol_df[['Row', 'Description']]"
      ]
    },
    {
      "cell_type": "markdown",
      "id": "9914aeef",
      "metadata": {
        "id": "9914aeef"
      },
      "source": [
        "# Data Cleaning"
      ]
    },
    {
      "cell_type": "code",
      "execution_count": null,
      "id": "adc9bc44",
      "metadata": {
        "id": "adc9bc44"
      },
      "outputs": [],
      "source": [
        "emptycol=app_df.isnull().sum()"
      ]
    },
    {
      "cell_type": "code",
      "execution_count": null,
      "id": "28bbfad7",
      "metadata": {
        "id": "28bbfad7",
        "outputId": "c3a51496-8c11-4a73-95ef-14402520ff11"
      },
      "outputs": [
        {
          "data": {
            "text/plain": [
              "122"
            ]
          },
          "execution_count": 9,
          "metadata": {},
          "output_type": "execute_result"
        }
      ],
      "source": [
        "len(emptycol)"
      ]
    },
    {
      "cell_type": "code",
      "execution_count": null,
      "id": "a69d34b5",
      "metadata": {
        "scrolled": true,
        "id": "a69d34b5",
        "outputId": "ac2b4c1c-fec3-4f41-8a8a-355ad14c70c1"
      },
      "outputs": [
        {
          "data": {
            "text/plain": [
              "array([     0,      0,      0,      0,      0,      0,      0,      0,\n",
              "            0,     12,    278,   1292,      0,      0,      0,      0,\n",
              "            0,      0,      0,      0,      0, 202929,      0,      0,\n",
              "            0,      0,      0,      0,  96391,      2,      0,      0,\n",
              "            0,      0,      0,      0,      0,      0,      0,      0,\n",
              "            0, 173378,    660,  60965, 156061, 179943, 150007, 204488,\n",
              "       214865, 163891, 154828, 153020, 208642, 182590, 210199, 154350,\n",
              "       213514, 169682, 156061, 179943, 150007, 204488, 214865, 163891,\n",
              "       154828, 153020, 208642, 182590, 210199, 154350, 213514, 169682,\n",
              "       156061, 179943, 150007, 204488, 214865, 163891, 154828, 153020,\n",
              "       208642, 182590, 210199, 154350, 213514, 169682, 210295, 154297,\n",
              "       148431, 156341, 145755,   1021,   1021,   1021,   1021,      1,\n",
              "            0,      0,      0,      0,      0,      0,      0,      0,\n",
              "            0,      0,      0,      0,      0,      0,      0,      0,\n",
              "            0,      0,      0,      0,  41519,  41519,  41519,  41519,\n",
              "        41519,  41519])"
            ]
          },
          "execution_count": 10,
          "metadata": {},
          "output_type": "execute_result"
        }
      ],
      "source": [
        "emptycol.values"
      ]
    },
    {
      "cell_type": "markdown",
      "id": "09bb57fe",
      "metadata": {
        "id": "09bb57fe"
      },
      "source": [
        "### COLUMNS HAVING NULL VALUES"
      ]
    },
    {
      "cell_type": "code",
      "execution_count": null,
      "id": "9aec8369",
      "metadata": {
        "scrolled": true,
        "id": "9aec8369",
        "outputId": "8817f6ea-df8b-4896-e939-258c28fc771e"
      },
      "outputs": [
        {
          "name": "stdout",
          "output_type": "stream",
          "text": [
            "AMT_ANNUITY                       12\n",
            "AMT_GOODS_PRICE                  278\n",
            "NAME_TYPE_SUITE                 1292\n",
            "OWN_CAR_AGE                   202929\n",
            "OCCUPATION_TYPE                96391\n",
            "                               ...  \n",
            "AMT_REQ_CREDIT_BUREAU_DAY      41519\n",
            "AMT_REQ_CREDIT_BUREAU_WEEK     41519\n",
            "AMT_REQ_CREDIT_BUREAU_MON      41519\n",
            "AMT_REQ_CREDIT_BUREAU_QRT      41519\n",
            "AMT_REQ_CREDIT_BUREAU_YEAR     41519\n",
            "Length: 67, dtype: int64\n"
          ]
        }
      ],
      "source": [
        "\n",
        "emptycol=app_df.isnull().sum()\n",
        "emptycol=emptycol[emptycol.values>0]\n",
        "print(emptycol)"
      ]
    },
    {
      "cell_type": "code",
      "execution_count": null,
      "id": "51d758f0",
      "metadata": {
        "scrolled": true,
        "id": "51d758f0",
        "outputId": "e4b5ce19-fb5b-4ae9-a252-8599d1b01912"
      },
      "outputs": [
        {
          "data": {
            "text/html": [
              "<div>\n",
              "<style scoped>\n",
              "    .dataframe tbody tr th:only-of-type {\n",
              "        vertical-align: middle;\n",
              "    }\n",
              "\n",
              "    .dataframe tbody tr th {\n",
              "        vertical-align: top;\n",
              "    }\n",
              "\n",
              "    .dataframe thead th {\n",
              "        text-align: right;\n",
              "    }\n",
              "</style>\n",
              "<table border=\"1\" class=\"dataframe\">\n",
              "  <thead>\n",
              "    <tr style=\"text-align: right;\">\n",
              "      <th></th>\n",
              "      <th>Row</th>\n",
              "      <th>0</th>\n",
              "    </tr>\n",
              "  </thead>\n",
              "  <tbody>\n",
              "    <tr>\n",
              "      <th>0</th>\n",
              "      <td>AMT_ANNUITY</td>\n",
              "      <td>12</td>\n",
              "    </tr>\n",
              "    <tr>\n",
              "      <th>1</th>\n",
              "      <td>AMT_GOODS_PRICE</td>\n",
              "      <td>278</td>\n",
              "    </tr>\n",
              "    <tr>\n",
              "      <th>2</th>\n",
              "      <td>NAME_TYPE_SUITE</td>\n",
              "      <td>1292</td>\n",
              "    </tr>\n",
              "    <tr>\n",
              "      <th>3</th>\n",
              "      <td>OWN_CAR_AGE</td>\n",
              "      <td>202929</td>\n",
              "    </tr>\n",
              "    <tr>\n",
              "      <th>4</th>\n",
              "      <td>OCCUPATION_TYPE</td>\n",
              "      <td>96391</td>\n",
              "    </tr>\n",
              "    <tr>\n",
              "      <th>...</th>\n",
              "      <td>...</td>\n",
              "      <td>...</td>\n",
              "    </tr>\n",
              "    <tr>\n",
              "      <th>62</th>\n",
              "      <td>AMT_REQ_CREDIT_BUREAU_DAY</td>\n",
              "      <td>41519</td>\n",
              "    </tr>\n",
              "    <tr>\n",
              "      <th>63</th>\n",
              "      <td>AMT_REQ_CREDIT_BUREAU_WEEK</td>\n",
              "      <td>41519</td>\n",
              "    </tr>\n",
              "    <tr>\n",
              "      <th>64</th>\n",
              "      <td>AMT_REQ_CREDIT_BUREAU_MON</td>\n",
              "      <td>41519</td>\n",
              "    </tr>\n",
              "    <tr>\n",
              "      <th>65</th>\n",
              "      <td>AMT_REQ_CREDIT_BUREAU_QRT</td>\n",
              "      <td>41519</td>\n",
              "    </tr>\n",
              "    <tr>\n",
              "      <th>66</th>\n",
              "      <td>AMT_REQ_CREDIT_BUREAU_YEAR</td>\n",
              "      <td>41519</td>\n",
              "    </tr>\n",
              "  </tbody>\n",
              "</table>\n",
              "<p>67 rows × 2 columns</p>\n",
              "</div>"
            ],
            "text/plain": [
              "                           Row       0\n",
              "0                  AMT_ANNUITY      12\n",
              "1              AMT_GOODS_PRICE     278\n",
              "2              NAME_TYPE_SUITE    1292\n",
              "3                  OWN_CAR_AGE  202929\n",
              "4              OCCUPATION_TYPE   96391\n",
              "..                         ...     ...\n",
              "62   AMT_REQ_CREDIT_BUREAU_DAY   41519\n",
              "63  AMT_REQ_CREDIT_BUREAU_WEEK   41519\n",
              "64   AMT_REQ_CREDIT_BUREAU_MON   41519\n",
              "65   AMT_REQ_CREDIT_BUREAU_QRT   41519\n",
              "66  AMT_REQ_CREDIT_BUREAU_YEAR   41519\n",
              "\n",
              "[67 rows x 2 columns]"
            ]
          },
          "execution_count": 13,
          "metadata": {},
          "output_type": "execute_result"
        }
      ],
      "source": [
        "emptycol_df = pd.DataFrame(emptycol)\n",
        "emptycol_df = emptycol_df.reset_index()\n",
        "emptycol_df = emptycol_df.rename(columns={\"index\": \"Row\", \"0\": \"count\"})\n",
        "emptycol_df"
      ]
    },
    {
      "cell_type": "markdown",
      "id": "d24d6153",
      "metadata": {
        "id": "d24d6153"
      },
      "source": [
        "### Total NO.OF COLUMS HAVING NULL VALUES. "
      ]
    },
    {
      "cell_type": "code",
      "execution_count": null,
      "id": "c4e531f3",
      "metadata": {
        "id": "c4e531f3",
        "outputId": "f82852ea-127c-4096-ec69-5d8ccd02e6fa"
      },
      "outputs": [
        {
          "data": {
            "text/plain": [
              "67"
            ]
          },
          "execution_count": 12,
          "metadata": {},
          "output_type": "execute_result"
        }
      ],
      "source": [
        "\n",
        "len(emptycol)"
      ]
    },
    {
      "cell_type": "code",
      "execution_count": null,
      "id": "6bf9747a",
      "metadata": {
        "id": "6bf9747a"
      },
      "outputs": [],
      "source": [
        "values=app_df['AMT_ANNUITY'].median()\n",
        "app_df.loc[app_df['AMT_ANNUITY'].isnull(),'AMT_ANNUITY']=values"
      ]
    },
    {
      "cell_type": "markdown",
      "id": "05c5e940",
      "metadata": {
        "id": "05c5e940"
      },
      "source": [
        "### VISUALIZING THE PERCANTAGE OF NULL VALUES IN EACH COLUMN "
      ]
    },
    {
      "cell_type": "code",
      "execution_count": null,
      "id": "66ab3339",
      "metadata": {
        "scrolled": true,
        "id": "66ab3339",
        "outputId": "05dad4da-9aa3-4109-84b2-21eb90598040"
      },
      "outputs": [
        {
          "name": "stderr",
          "output_type": "stream",
          "text": [
            "/Users/prudhviraj/opt/anaconda3/lib/python3.9/site-packages/seaborn/_decorators.py:36: FutureWarning: Pass the following variables as keyword args: x, y. From version 0.12, the only valid positional argument will be `data`, and passing other arguments without an explicit keyword will result in an error or misinterpretation.\n",
            "  warnings.warn(\n"
          ]
        },
        {
          "data": {
            "image/png": "[encoded data removed]",
            "text/plain": [
              "<Figure size 1152x360 with 1 Axes>"
            ]
          },
          "metadata": {
            "needs_background": "light"
          },
          "output_type": "display_data"
        }
      ],
      "source": [
        "#Percantage of missing values in each column\n",
        "missing = pd.DataFrame((app_df.isnull().sum())*100/app_df.shape[0]).reset_index()\n",
        "plt.figure(figsize=(16,5))\n",
        "ax = sns.pointplot('index',0,data=missing)\n",
        "plt.xticks(rotation =90,fontsize =7)\n",
        "plt.title(\"Percentage of Missing values\")\n",
        "plt.ylabel(\"PERCENTAGE\")\n",
        "plt.show()"
      ]
    },
    {
      "cell_type": "markdown",
      "id": "edd0b194",
      "metadata": {
        "id": "edd0b194"
      },
      "source": [
        "### GETTING COLUMN NAMES HAVING MORE THAN 30% NULL VALUES "
      ]
    },
    {
      "cell_type": "code",
      "execution_count": null,
      "id": "5281b3b4",
      "metadata": {
        "id": "5281b3b4"
      },
      "outputs": [],
      "source": [
        "emptycol = list(emptycol[emptycol.values>=0.3].index)"
      ]
    },
    {
      "cell_type": "code",
      "execution_count": null,
      "id": "bff3de9c",
      "metadata": {
        "id": "bff3de9c"
      },
      "outputs": [],
      "source": [
        "emptycol.remove('AMT_GOODS_PRICE')\n",
        "emptycol.remove('OWN_CAR_AGE')\n",
        "emptycol.remove('OCCUPATION_TYPE')"
      ]
    },
    {
      "cell_type": "code",
      "execution_count": null,
      "id": "059f2598",
      "metadata": {
        "id": "059f2598",
        "outputId": "1d6645c0-50cf-4c8e-9203-2766fc476702"
      },
      "outputs": [
        {
          "data": {
            "text/plain": [
              "64"
            ]
          },
          "execution_count": 24,
          "metadata": {},
          "output_type": "execute_result"
        }
      ],
      "source": [
        "len(emptycol)"
      ]
    },
    {
      "cell_type": "code",
      "execution_count": null,
      "id": "b3e83c63",
      "metadata": {
        "id": "b3e83c63",
        "outputId": "8456385c-9a34-4d6d-acbc-49148332a7e9"
      },
      "outputs": [
        {
          "name": "stdout",
          "output_type": "stream",
          "text": [
            "64\n"
          ]
        }
      ],
      "source": [
        "app_df.drop(labels=emptycol,axis=1,inplace=True)\n",
        "print(len(emptycol))"
      ]
    },
    {
      "cell_type": "markdown",
      "id": "3638210e",
      "metadata": {
        "id": "3638210e"
      },
      "source": [
        "#### #Checking the columns having less null percentage"
      ]
    },
    {
      "cell_type": "code",
      "execution_count": null,
      "id": "1a818dbf",
      "metadata": {
        "scrolled": false,
        "id": "1a818dbf",
        "outputId": "24c69b55-c6ca-487a-ac76-933606538221"
      },
      "outputs": [
        {
          "data": {
            "text/plain": [
              "SK_ID_CURR                      0.000000\n",
              "TARGET                          0.000000\n",
              "NAME_CONTRACT_TYPE              0.000000\n",
              "CODE_GENDER                     0.000000\n",
              "FLAG_OWN_CAR                    0.000000\n",
              "FLAG_OWN_REALTY                 0.000000\n",
              "CNT_CHILDREN                    0.000000\n",
              "AMT_INCOME_TOTAL                0.000000\n",
              "AMT_CREDIT                      0.000000\n",
              "AMT_GOODS_PRICE                 0.090403\n",
              "NAME_INCOME_TYPE                0.000000\n",
              "NAME_EDUCATION_TYPE             0.000000\n",
              "NAME_FAMILY_STATUS              0.000000\n",
              "NAME_HOUSING_TYPE               0.000000\n",
              "REGION_POPULATION_RELATIVE      0.000000\n",
              "DAYS_BIRTH                      0.000000\n",
              "DAYS_EMPLOYED                   0.000000\n",
              "DAYS_REGISTRATION               0.000000\n",
              "DAYS_ID_PUBLISH                 0.000000\n",
              "OWN_CAR_AGE                    65.990810\n",
              "FLAG_MOBIL                      0.000000\n",
              "FLAG_EMP_PHONE                  0.000000\n",
              "FLAG_WORK_PHONE                 0.000000\n",
              "FLAG_CONT_MOBILE                0.000000\n",
              "FLAG_PHONE                      0.000000\n",
              "FLAG_EMAIL                      0.000000\n",
              "OCCUPATION_TYPE                31.345545\n",
              "REGION_RATING_CLIENT            0.000000\n",
              "REGION_RATING_CLIENT_W_CITY     0.000000\n",
              "WEEKDAY_APPR_PROCESS_START      0.000000\n",
              "HOUR_APPR_PROCESS_START         0.000000\n",
              "REG_REGION_NOT_LIVE_REGION      0.000000\n",
              "REG_REGION_NOT_WORK_REGION      0.000000\n",
              "LIVE_REGION_NOT_WORK_REGION     0.000000\n",
              "REG_CITY_NOT_LIVE_CITY          0.000000\n",
              "REG_CITY_NOT_WORK_CITY          0.000000\n",
              "LIVE_CITY_NOT_WORK_CITY         0.000000\n",
              "ORGANIZATION_TYPE               0.000000\n",
              "FLAG_DOCUMENT_2                 0.000000\n",
              "FLAG_DOCUMENT_3                 0.000000\n",
              "FLAG_DOCUMENT_4                 0.000000\n",
              "FLAG_DOCUMENT_5                 0.000000\n",
              "FLAG_DOCUMENT_6                 0.000000\n",
              "FLAG_DOCUMENT_7                 0.000000\n",
              "FLAG_DOCUMENT_8                 0.000000\n",
              "FLAG_DOCUMENT_9                 0.000000\n",
              "FLAG_DOCUMENT_10                0.000000\n",
              "FLAG_DOCUMENT_11                0.000000\n",
              "FLAG_DOCUMENT_12                0.000000\n",
              "FLAG_DOCUMENT_13                0.000000\n",
              "FLAG_DOCUMENT_14                0.000000\n",
              "FLAG_DOCUMENT_15                0.000000\n",
              "FLAG_DOCUMENT_16                0.000000\n",
              "FLAG_DOCUMENT_17                0.000000\n",
              "FLAG_DOCUMENT_18                0.000000\n",
              "FLAG_DOCUMENT_19                0.000000\n",
              "FLAG_DOCUMENT_20                0.000000\n",
              "FLAG_DOCUMENT_21                0.000000\n",
              "dtype: float64"
            ]
          },
          "execution_count": 26,
          "metadata": {},
          "output_type": "execute_result"
        }
      ],
      "source": [
        "app_df.isnull().sum()/len(app_df)*100"
      ]
    },
    {
      "cell_type": "code",
      "execution_count": null,
      "id": "468e5018",
      "metadata": {
        "scrolled": true,
        "id": "468e5018"
      },
      "outputs": [],
      "source": [
        "#values=app_df['AMT_ANNUITY'].median()\n",
        "#app_df.loc[df_app['AMT_ANNUITY'].isnull(),'AMT_ANNUITY']=values"
      ]
    },
    {
      "cell_type": "code",
      "execution_count": null,
      "id": "300da9b4",
      "metadata": {
        "scrolled": true,
        "id": "300da9b4",
        "outputId": "4ec66620-c5b9-4fdc-a5b7-9f80baddd228"
      },
      "outputs": [
        {
          "data": {
            "text/plain": [
              "SK_ID_CURR                          0\n",
              "TARGET                              0\n",
              "NAME_CONTRACT_TYPE                  0\n",
              "CODE_GENDER                         0\n",
              "FLAG_OWN_CAR                        0\n",
              "FLAG_OWN_REALTY                     0\n",
              "CNT_CHILDREN                        0\n",
              "AMT_INCOME_TOTAL                    0\n",
              "AMT_CREDIT                          0\n",
              "AMT_GOODS_PRICE                   278\n",
              "NAME_INCOME_TYPE                    0\n",
              "NAME_EDUCATION_TYPE                 0\n",
              "NAME_FAMILY_STATUS                  0\n",
              "NAME_HOUSING_TYPE                   0\n",
              "REGION_POPULATION_RELATIVE          0\n",
              "DAYS_BIRTH                          0\n",
              "DAYS_EMPLOYED                       0\n",
              "DAYS_REGISTRATION                   0\n",
              "DAYS_ID_PUBLISH                     0\n",
              "OWN_CAR_AGE                    202929\n",
              "FLAG_MOBIL                          0\n",
              "FLAG_EMP_PHONE                      0\n",
              "FLAG_WORK_PHONE                     0\n",
              "FLAG_CONT_MOBILE                    0\n",
              "FLAG_PHONE                          0\n",
              "FLAG_EMAIL                          0\n",
              "OCCUPATION_TYPE                 96391\n",
              "REGION_RATING_CLIENT                0\n",
              "REGION_RATING_CLIENT_W_CITY         0\n",
              "WEEKDAY_APPR_PROCESS_START          0\n",
              "HOUR_APPR_PROCESS_START             0\n",
              "REG_REGION_NOT_LIVE_REGION          0\n",
              "REG_REGION_NOT_WORK_REGION          0\n",
              "LIVE_REGION_NOT_WORK_REGION         0\n",
              "REG_CITY_NOT_LIVE_CITY              0\n",
              "REG_CITY_NOT_WORK_CITY              0\n",
              "LIVE_CITY_NOT_WORK_CITY             0\n",
              "ORGANIZATION_TYPE                   0\n",
              "FLAG_DOCUMENT_2                     0\n",
              "FLAG_DOCUMENT_3                     0\n",
              "FLAG_DOCUMENT_4                     0\n",
              "FLAG_DOCUMENT_5                     0\n",
              "FLAG_DOCUMENT_6                     0\n",
              "FLAG_DOCUMENT_7                     0\n",
              "FLAG_DOCUMENT_8                     0\n",
              "FLAG_DOCUMENT_9                     0\n",
              "FLAG_DOCUMENT_10                    0\n",
              "FLAG_DOCUMENT_11                    0\n",
              "FLAG_DOCUMENT_12                    0\n",
              "FLAG_DOCUMENT_13                    0\n",
              "FLAG_DOCUMENT_14                    0\n",
              "FLAG_DOCUMENT_15                    0\n",
              "FLAG_DOCUMENT_16                    0\n",
              "FLAG_DOCUMENT_17                    0\n",
              "FLAG_DOCUMENT_18                    0\n",
              "FLAG_DOCUMENT_19                    0\n",
              "FLAG_DOCUMENT_20                    0\n",
              "FLAG_DOCUMENT_21                    0\n",
              "dtype: int64"
            ]
          },
          "execution_count": 18,
          "metadata": {},
          "output_type": "execute_result"
        }
      ],
      "source": [
        "app_df.isnull().sum()"
      ]
    },
    {
      "cell_type": "markdown",
      "id": "1cb06b64",
      "metadata": {
        "id": "1cb06b64"
      },
      "source": [
        "### Now, all columns have been with zero null values "
      ]
    },
    {
      "cell_type": "code",
      "execution_count": null,
      "id": "82cefb55",
      "metadata": {
        "id": "82cefb55",
        "outputId": "f56690ca-a07d-430a-918d-ed9344d4049b"
      },
      "outputs": [
        {
          "name": "stdout",
          "output_type": "stream",
          "text": [
            "0\n"
          ]
        }
      ],
      "source": [
        "emptyrow=app_df.isnull().sum(axis=1)\n",
        "emptyrow=list(emptyrow[emptyrow.values>=0.3*len(app_df)].index)\n",
        "app_df.drop(labels=emptyrow,axis=0,inplace=True)\n",
        "print(len(emptyrow))"
      ]
    },
    {
      "cell_type": "markdown",
      "id": "b20d935e",
      "metadata": {
        "id": "b20d935e"
      },
      "source": [
        "#### Removing unwanted columns from this dataset "
      ]
    },
    {
      "cell_type": "code",
      "execution_count": null,
      "id": "604e8a2f",
      "metadata": {
        "id": "604e8a2f"
      },
      "outputs": [],
      "source": [
        "unwanted=['FLAG_MOBIL', 'FLAG_EMP_PHONE', 'FLAG_WORK_PHONE', 'FLAG_CONT_MOBILE',\n",
        "       'FLAG_PHONE', 'FLAG_EMAIL','REGION_RATING_CLIENT','REGION_RATING_CLIENT_W_CITY','FLAG_EMAIL', 'REGION_RATING_CLIENT',\n",
        "       'REGION_RATING_CLIENT_W_CITY', 'FLAG_DOCUMENT_2', 'FLAG_DOCUMENT_3','FLAG_DOCUMENT_4', 'FLAG_DOCUMENT_5', 'FLAG_DOCUMENT_6',\n",
        "       'FLAG_DOCUMENT_7', 'FLAG_DOCUMENT_8', 'FLAG_DOCUMENT_9','FLAG_DOCUMENT_10', 'FLAG_DOCUMENT_11', 'FLAG_DOCUMENT_12',\n",
        "       'FLAG_DOCUMENT_13', 'FLAG_DOCUMENT_14', 'FLAG_DOCUMENT_15','FLAG_DOCUMENT_16', 'FLAG_DOCUMENT_17', 'FLAG_DOCUMENT_18',\n",
        "       'FLAG_DOCUMENT_19', 'FLAG_DOCUMENT_20', 'FLAG_DOCUMENT_21']\n",
        "\n",
        "app_df.drop(labels=unwanted,axis=1,inplace=True)"
      ]
    },
    {
      "cell_type": "markdown",
      "id": "7c0aac34",
      "metadata": {
        "id": "7c0aac34"
      },
      "source": [
        "#### XNA' which means 'Not Available'.  "
      ]
    },
    {
      "cell_type": "markdown",
      "id": "914421c4",
      "metadata": {
        "id": "914421c4"
      },
      "source": [
        "#### IN GENDER COLUMN "
      ]
    },
    {
      "cell_type": "code",
      "execution_count": null,
      "id": "83c7ac33",
      "metadata": {
        "id": "83c7ac33",
        "outputId": "4b3b2a2e-5e4c-48f1-87f4-718de78d552a"
      },
      "outputs": [
        {
          "data": {
            "text/plain": [
              "(4, 30)"
            ]
          },
          "execution_count": 30,
          "metadata": {},
          "output_type": "execute_result"
        }
      ],
      "source": [
        "app_df[app_df['CODE_GENDER']=='XNA'].shape\n"
      ]
    },
    {
      "cell_type": "markdown",
      "id": "b96a3bd6",
      "metadata": {
        "id": "b96a3bd6"
      },
      "source": [
        "#### IN ORGANIZATION COLUMN  "
      ]
    },
    {
      "cell_type": "code",
      "execution_count": null,
      "id": "ddda8a62",
      "metadata": {
        "id": "ddda8a62",
        "outputId": "2142be0e-9fa5-4060-e247-320105e94969"
      },
      "outputs": [
        {
          "data": {
            "text/plain": [
              "(55374, 30)"
            ]
          },
          "execution_count": 26,
          "metadata": {},
          "output_type": "execute_result"
        }
      ],
      "source": [
        "app_df[app_df['ORGANIZATION_TYPE']=='XNA'].shape"
      ]
    },
    {
      "cell_type": "markdown",
      "id": "e67bba18",
      "metadata": {
        "id": "e67bba18"
      },
      "source": [
        "#### CHECKING NO.OF FEMALES AND MALES IN GENDER COLUMN "
      ]
    },
    {
      "cell_type": "code",
      "execution_count": null,
      "id": "3cdee347",
      "metadata": {
        "scrolled": true,
        "id": "3cdee347",
        "outputId": "193d756c-0252-4af4-dcbb-921a09be331d"
      },
      "outputs": [
        {
          "data": {
            "text/plain": [
              "F      202448\n",
              "M      105059\n",
              "XNA         4\n",
              "Name: CODE_GENDER, dtype: int64"
            ]
          },
          "execution_count": 27,
          "metadata": {},
          "output_type": "execute_result"
        }
      ],
      "source": [
        "app_df['CODE_GENDER'].value_counts()"
      ]
    },
    {
      "cell_type": "markdown",
      "id": "0b9183ea",
      "metadata": {
        "id": "0b9183ea"
      },
      "source": [
        "##### AS IN GENDER COLUMN FEMALES ARE DOMINATING THAN MALE.SO REPLACING 'XNA' WITH FEMALES"
      ]
    },
    {
      "cell_type": "code",
      "execution_count": null,
      "id": "4569826e",
      "metadata": {
        "id": "4569826e",
        "outputId": "b0a69660-ed52-43aa-8d3d-badafe5cda38"
      },
      "outputs": [
        {
          "data": {
            "text/plain": [
              "F    202452\n",
              "M    105059\n",
              "Name: CODE_GENDER, dtype: int64"
            ]
          },
          "execution_count": 29,
          "metadata": {},
          "output_type": "execute_result"
        }
      ],
      "source": [
        "app_df.loc[app_df['CODE_GENDER']=='XNA','CODE_GENDER']='F'\n",
        "app_df['CODE_GENDER'].value_counts()\n"
      ]
    },
    {
      "cell_type": "code",
      "execution_count": null,
      "id": "96584e95",
      "metadata": {
        "id": "96584e95",
        "outputId": "ab71b6a2-91cd-475e-c162-03e44907395f"
      },
      "outputs": [
        {
          "data": {
            "text/plain": [
              "count                     307511\n",
              "unique                        58\n",
              "top       Business Entity Type 3\n",
              "freq                       67992\n",
              "Name: ORGANIZATION_TYPE, dtype: object"
            ]
          },
          "execution_count": 31,
          "metadata": {},
          "output_type": "execute_result"
        }
      ],
      "source": [
        "app_df['ORGANIZATION_TYPE'].describe()"
      ]
    },
    {
      "cell_type": "markdown",
      "id": "73ff8004",
      "metadata": {
        "id": "73ff8004"
      },
      "source": [
        "##### IN ORGANIZATION TYPE COLUMN TOTALLY 55374 COLUMNS HAVING 'XNA' VALUES.SO DROP THE ROWS HAVING 'XNA' VALUE  i.e 55374"
      ]
    },
    {
      "cell_type": "code",
      "execution_count": null,
      "id": "1f4ce8d7",
      "metadata": {
        "id": "1f4ce8d7",
        "outputId": "43d7fa3d-fb6c-4bf2-afaf-92d90d629f67"
      },
      "outputs": [
        {
          "data": {
            "text/plain": [
              "(0, 30)"
            ]
          },
          "execution_count": 33,
          "metadata": {},
          "output_type": "execute_result"
        }
      ],
      "source": [
        "app_df=app_df.drop(app_df.loc[app_df['ORGANIZATION_TYPE']=='XNA'].index)\n",
        "app_df[app_df['ORGANIZATION_TYPE']=='XNA'].shape\n"
      ]
    },
    {
      "cell_type": "markdown",
      "id": "60e40f8b",
      "metadata": {
        "id": "60e40f8b"
      },
      "source": [
        "# CATEGORICAL ANALYSIS"
      ]
    },
    {
      "cell_type": "markdown",
      "id": "ce05ae3d",
      "metadata": {
        "id": "ce05ae3d"
      },
      "source": [
        "#### WE CAN VISUALIZE CATEGORICAL DATA BY BAR GRAPH OR PIE CHART BUT I'M USING BAR GRAPH FOR BETTER VISUALIZATION"
      ]
    },
    {
      "cell_type": "code",
      "execution_count": null,
      "id": "84d984c1",
      "metadata": {
        "id": "84d984c1",
        "outputId": "4b578abc-aab5-4a2e-9447-4201203f8eb4"
      },
      "outputs": [
        {
          "data": {
            "image/png": "[encoded data removed]",
            "text/plain": [
              "<Figure size 432x288 with 1 Axes>"
            ]
          },
          "metadata": {
            "needs_background": "light"
          },
          "output_type": "display_data"
        }
      ],
      "source": [
        "color=['chartreuse','yellow','orange', 'red','pink']\n",
        "app_df.CODE_GENDER.value_counts(normalize=True).plot.bar(color=color)\n",
        "plt.title(\"Females vs Males\")\n",
        "plt.show()"
      ]
    },
    {
      "cell_type": "code",
      "execution_count": null,
      "id": "8d201876",
      "metadata": {
        "id": "8d201876",
        "outputId": "07f92b15-4987-47d5-a059-dc3fc6e7db0a"
      },
      "outputs": [
        {
          "data": {
            "image/png": "[encoded data removed]",
            "text/plain": [
              "<Figure size 432x288 with 1 Axes>"
            ]
          },
          "metadata": {
            "needs_background": "light"
          },
          "output_type": "display_data"
        }
      ],
      "source": [
        "app_df.NAME_FAMILY_STATUS.value_counts(normalize=True).plot.bar(color=color)\n",
        "plt.title(\"Family Status\")\n",
        "plt.show()"
      ]
    },
    {
      "cell_type": "code",
      "execution_count": null,
      "id": "2b058313",
      "metadata": {
        "id": "2b058313",
        "outputId": "71b52520-02b2-4f5a-b709-12da6ba0cd7b"
      },
      "outputs": [
        {
          "data": {
            "image/png": "[encoded data removed]",
            "text/plain": [
              "<Figure size 432x288 with 1 Axes>"
            ]
          },
          "metadata": {
            "needs_background": "light"
          },
          "output_type": "display_data"
        }
      ],
      "source": [
        "app_df.NAME_INCOME_TYPE.value_counts(normalize=True).plot.bar(color=color)\n",
        "plt.title(\"Source Of Income\")\n",
        "plt.show()"
      ]
    },
    {
      "cell_type": "code",
      "execution_count": null,
      "id": "69628128",
      "metadata": {
        "id": "69628128",
        "outputId": "d49f6e7c-b796-4240-976f-5d267a1a0061"
      },
      "outputs": [
        {
          "data": {
            "image/png": "[encoded data removed]",
            "text/plain": [
              "<Figure size 432x288 with 1 Axes>"
            ]
          },
          "metadata": {
            "needs_background": "light"
          },
          "output_type": "display_data"
        }
      ],
      "source": [
        "app_df.OCCUPATION_TYPE.value_counts(normalize=True).plot.bar(color=color)\n",
        "plt.title(\"Occupation Type\")\n",
        "plt.show()"
      ]
    },
    {
      "cell_type": "code",
      "execution_count": null,
      "id": "12512a6b",
      "metadata": {
        "id": "12512a6b"
      },
      "outputs": [],
      "source": [
        "def plot_features(feature,label_rotation=False,horizontal_layout=True):\n",
        "    temp = app_df[feature].value_counts()\n",
        "    df1 = pd.DataFrame({feature: temp.index,'absolute values': temp.values})\n",
        "    \n",
        "    t1_percentage = app_df[[feature, 'TARGET']].groupby([feature],as_index=False).mean()\n",
        "    t1_percentage.sort_values(by='TARGET', ascending=False, inplace=True)\n",
        "    \n",
        "    if(horizontal_layout):\n",
        "        fig, (ax1, ax2) = plt.subplots(ncols=2, figsize=(12,6))\n",
        "    else:\n",
        "        fig, (ax1, ax2) = plt.subplots(nrows=2, figsize=(12,14))\n",
        "    s = sns.barplot(ax=ax1, x = feature, y=\"absolute values\",data=df1)\n",
        "    if(label_rotation):\n",
        "        s.set_xticklabels(s.get_xticklabels(),rotation=90)\n",
        "    \n",
        "    s = sns.barplot(ax=ax2, x = feature, y='TARGET', order=t1_percentage[feature], data=t1_percentage)\n",
        "    if(label_rotation):\n",
        "        s.set_xticklabels(s.get_xticklabels(),rotation=90)\n",
        "    plt.ylabel('% of applications where loans were NOT repayed', fontsize=10)\n",
        "    plt.tick_params(axis='both', which='major', labelsize=10)\n",
        "    plt.subplots_adjust(wspace = .6)\n",
        "plt.show()"
      ]
    },
    {
      "cell_type": "code",
      "execution_count": null,
      "id": "a793ff3d",
      "metadata": {
        "id": "a793ff3d",
        "outputId": "a35a0af6-15a2-4c5f-e7bf-680f577da025"
      },
      "outputs": [
        {
          "data": {
            "text/plain": [
              "Index(['NAME_CONTRACT_TYPE', 'CODE_GENDER', 'FLAG_OWN_CAR', 'FLAG_OWN_REALTY',\n",
              "       'NAME_INCOME_TYPE', 'NAME_EDUCATION_TYPE', 'NAME_FAMILY_STATUS',\n",
              "       'NAME_HOUSING_TYPE', 'OCCUPATION_TYPE', 'WEEKDAY_APPR_PROCESS_START',\n",
              "       'ORGANIZATION_TYPE'],\n",
              "      dtype='object')"
            ]
          },
          "execution_count": 72,
          "metadata": {},
          "output_type": "execute_result"
        }
      ],
      "source": [
        "categorical= app_df.select_dtypes(include=object).columns\n",
        "categorical"
      ]
    },
    {
      "cell_type": "code",
      "execution_count": null,
      "id": "3e6c4e01",
      "metadata": {
        "id": "3e6c4e01",
        "outputId": "310b35cb-7cbe-49ef-f66f-d5b133826b22"
      },
      "outputs": [
        {
          "data": {
            "image/png": "[encoded data removed]",
            "text/plain": [
              "<Figure size 864x432 with 2 Axes>"
            ]
          },
          "metadata": {
            "needs_background": "light"
          },
          "output_type": "display_data"
        }
      ],
      "source": [
        "plot_features('NAME_FAMILY_STATUS',True, True)\n"
      ]
    },
    {
      "cell_type": "code",
      "execution_count": null,
      "id": "2a586134",
      "metadata": {
        "id": "2a586134"
      },
      "outputs": [],
      "source": []
    }
  ],
  "metadata": {
    "kernelspec": {
      "display_name": "Python 3 (ipykernel)",
      "language": "python",
      "name": "python3"
    },
    "language_info": {
      "codemirror_mode": {
        "name": "ipython",
        "version": 3
      },
      "file_extension": ".py",
      "mimetype": "text/x-python",
      "name": "python",
      "nbconvert_exporter": "python",
      "pygments_lexer": "ipython3",
      "version": "3.9.7"
    },
    "colab": {
      "provenance": [],
      "include_colab_link": true
    }
  },
  "nbformat": 4,
  "nbformat_minor": 5
}